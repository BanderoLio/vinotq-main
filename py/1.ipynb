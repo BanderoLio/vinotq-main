{
 "cells": [
  {
   "cell_type": "code",
   "execution_count": 7,
   "metadata": {},
   "outputs": [
    {
     "name": "stdout",
     "output_type": "stream",
     "text": [
      "doublee\n"
     ]
    },
    {
     "data": {
      "text/plain": [
       "False"
      ]
     },
     "execution_count": 7,
     "metadata": {},
     "output_type": "execute_result"
    }
   ],
   "source": [
    "def fun(arr: list) -> bool:\n",
    "    if not arr:\n",
    "        print(\"notarr\")\n",
    "        return False\n",
    "\n",
    "    if not isinstance(arr, list):\n",
    "        print(\"list\")\n",
    "        return False\n",
    "\n",
    "    for i in range(len(arr)):\n",
    "        if not isinstance(arr[i], str):\n",
    "            print(\"not str\")\n",
    "            return False\n",
    "\n",
    "    for i in range(len(arr)):\n",
    "        for j in range(len(arr) + 1):\n",
    "            if arr[i] == arr[j]:\n",
    "                print(\"doublee\")\n",
    "                return False\n",
    "\n",
    "    return True\n",
    "\n",
    "\n",
    "fun([\"car\", \"dog\"])"
   ]
  },
  {
   "cell_type": "code",
   "execution_count": 17,
   "metadata": {},
   "outputs": [
    {
     "name": "stdout",
     "output_type": "stream",
     "text": [
      "Вычислить адрес: 46.120.197.51/32\n",
      "Адрес 186.217.226.44/5 разделить на 317 подсетей\n"
     ]
    }
   ],
   "source": [
    "from random import randint as rnd\n",
    "\n",
    "print(\n",
    "    f\"Вычислить адрес: {rnd(1, 256)}.{rnd(1, 256)}.{rnd(1, 256)}.{rnd(1, 256)}/{rnd(1, 33)}\"\n",
    ")\n",
    "print(\n",
    "    f\"Адрес {rnd(1, 256)}.{rnd(1, 256)}.{rnd(1, 256)}.{rnd(1, 256)}/{rnd(1, 25)} разделить на {rnd(1, 500)} подсетей\"\n",
    ")"
   ]
  },
  {
   "cell_type": "code",
   "execution_count": 69,
   "metadata": {},
   "outputs": [
    {
     "name": "stdout",
     "output_type": "stream",
     "text": [
      "2, 2, 2, 2, 2, 2, 2, 2, 2, 2, 2, 2, 2, 2, 2, 2, 2, 2, 2, 2,\n"
     ]
    }
   ],
   "source": [
    "res = \"2,\"\n",
    "for i in range(19):\n",
    "    res += \" 2,\"\n",
    "\n",
    "\n",
    "print(res)"
   ]
  },
  {
   "cell_type": "code",
   "execution_count": 4,
   "metadata": {},
   "outputs": [
    {
     "name": "stdout",
     "output_type": "stream",
     "text": [
      "All tests passed!\n"
     ]
    }
   ],
   "source": [
    "def t4_23(n, depend):\n",
    "    res = []\n",
    "    q = [0]\n",
    "    while len(res) != n:\n",
    "        i = q.pop(0)\n",
    "        f = True\n",
    "        if i not in res:\n",
    "            for j in range(n):\n",
    "                if j in depend[i] and j not in res:\n",
    "                    q.append(j)\n",
    "                    f = False\n",
    "                elif not depend[i] and i != j:\n",
    "                    q.append(j)\n",
    "            if f:\n",
    "                res.append(i)\n",
    "            else:\n",
    "                q.append(i)\n",
    "    return res\n",
    "\n",
    "\n",
    "def test():\n",
    "    # Тест 1: Простая зависимость\n",
    "    N = 3\n",
    "    depend = [[], [0], [1]]  # 0 -> 1 -> 2\n",
    "    assert t4_23(N, depend) == [0, 1, 2]\n",
    "\n",
    "    # Тест 2: Несколько независимых процессов\n",
    "    N = 4\n",
    "    depend = [[], [], [0, 1], [2]]  # 0, 1 -> 2 -> 3\n",
    "    assert t4_23(N, depend) == [0, 1, 2, 3]\n",
    "\n",
    "    # Тест 3: Цепочка зависимостей\n",
    "    N = 5\n",
    "    depend = [[], [0], [1], [2], [3]]  # 0 -> 1 -> 2 -> 3 -> 4\n",
    "    assert t4_23(N, depend) == [0, 1, 2, 3, 4]\n",
    "\n",
    "    # Тест 4: Разветвление\n",
    "    N = 6\n",
    "    depend = [[], [0], [0], [1, 2], [3], [3]]  # 0 -> 1, 2 -> 3 -> 4, 5\n",
    "    result = t4_23(N, depend)\n",
    "    assert result[:2] == [0, 1] or result[:2] == [0, 2]  # 0 -> 1 or 0 -> 2\n",
    "    assert result[-2:] == [4, 5] or result[-2:] == [5, 4]  # 4 -> 5 or 5 -> 4\n",
    "\n",
    "    # Тест 5: Все независимы\n",
    "    N = 4\n",
    "    depend = [[], [], [], []]  # No dependencies\n",
    "    assert t4_23(N, depend) == [0, 1, 2, 3]\n",
    "\n",
    "    # Тест 6: Большой граф\n",
    "    N = 10\n",
    "    depend = [\n",
    "        [],\n",
    "        [0],\n",
    "        [1],\n",
    "        [1],\n",
    "        [2, 3],\n",
    "        [4],\n",
    "        [4],\n",
    "        [5, 6],\n",
    "        [7],\n",
    "        [8],\n",
    "    ]  # Various dependencies\n",
    "    result = t4_23(N, depend)\n",
    "    # Дополнительная проверка порядка выполнения\n",
    "    executed = set()\n",
    "    for process in result:\n",
    "        for dep in depend[process]:\n",
    "            assert (\n",
    "                dep in executed\n",
    "            ), f\"Process {process} started before its dependency {dep}\"\n",
    "        executed.add(process)\n",
    "    print(\"All tests passed!\")\n",
    "\n",
    "\n",
    "test()\n"
   ]
  },
  {
   "cell_type": "code",
   "execution_count": 14,
   "metadata": {},
   "outputs": [],
   "source": [
    "def power(a, n):\n",
    "    k = n\n",
    "    b = 1\n",
    "\n",
    "    while k > 0:\n",
    "        if k % 2 == 0:\n",
    "            k /= 2\n",
    "            a *= a\n",
    "        else:\n",
    "            k -= 1\n",
    "            b *= a\n",
    "\n",
    "    return b\n"
   ]
  },
  {
   "cell_type": "code",
   "execution_count": 3,
   "metadata": {},
   "outputs": [
    {
     "name": "stdout",
     "output_type": "stream",
     "text": [
      "2\n"
     ]
    }
   ],
   "source": [
    "class A:\n",
    "    def __init__(self):\n",
    "        self.x = 1\n",
    "\n",
    "class B(A):\n",
    "    def __init__(self):\n",
    "        super().__init__()\n",
    "        self.x = 2\n",
    "\n",
    "class C(A):\n",
    "    def __init__(self):\n",
    "        super().__init__()\n",
    "        self.x = 3\n",
    "\n",
    "class D(B, C):\n",
    "    def __init__(self):\n",
    "        super().__init__()\n",
    "\n",
    "d = D()\n",
    "print(d.x)"
   ]
  },
  {
   "cell_type": "code",
   "execution_count": 8,
   "metadata": {},
   "outputs": [
    {
     "name": "stdout",
     "output_type": "stream",
     "text": [
      "a<0\n",
      "True\n",
      "True\n"
     ]
    }
   ],
   "source": [
    "def solution(a: int) -> bool: \n",
    "    if a < 0:\n",
    "        a = -a\n",
    "        print(\"a<0\")\n",
    "    \n",
    "    if a < 2:\n",
    "        print(\"a<2\")\n",
    "        return False\n",
    "    elif a == 2:\n",
    "        return True\n",
    "        \n",
    "    for i in range(2, int(a**0.5 + 1)):\n",
    "        if a % i == 0:\n",
    "            print(\"a is False\")\n",
    "            return False\n",
    "    return True\n",
    "\n",
    "print(solution(-3))\n",
    "print(solution(3))"
   ]
  }
 ],
 "metadata": {
  "kernelspec": {
   "display_name": "Python 3",
   "language": "python",
   "name": "python3"
  },
  "language_info": {
   "codemirror_mode": {
    "name": "ipython",
    "version": 3
   },
   "file_extension": ".py",
   "mimetype": "text/x-python",
   "name": "python",
   "nbconvert_exporter": "python",
   "pygments_lexer": "ipython3",
   "version": "3.13.1"
  }
 },
 "nbformat": 4,
 "nbformat_minor": 2
}
