{
 "cells": [
  {
   "cell_type": "code",
   "execution_count": 26,
   "metadata": {},
   "outputs": [
    {
     "name": "stdout",
     "output_type": "stream",
     "text": [
      "Обнаружена ошибка TypeError: TypeError from group\n",
      "Обнаружена ошибка ValueError: ValueError from group\n",
      "Обработка завершена\n"
     ]
    }
   ],
   "source": [
    "def trying(a, b, c):\n",
    "    try:\n",
    "        if (\n",
    "            not isinstance(a, int) or not isinstance(b, int) or not isinstance(c, int)\n",
    "        ) and not 0 <= a <= 255:\n",
    "            raise ExceptionGroup(\n",
    "                \"Много ошибок:\",\n",
    "                [\n",
    "                    ValueError(\"ValueError from group\"),\n",
    "                    TypeError(\"TypeError from group\"),\n",
    "                ],\n",
    "            )\n",
    "        if not isinstance(a, int) or not isinstance(b, int) or not isinstance(c, int):\n",
    "            raise TypeError\n",
    "        if not 0 <= a <= 255:\n",
    "            raise ValueError\n",
    "        result = chr(a) / b / c\n",
    "        print(result)\n",
    "\n",
    "    except* TypeError as e:\n",
    "        for exc in e.exceptions:\n",
    "            print(f\"Обнаружена ошибка TypeError: {exc}\")\n",
    "\n",
    "    except* ValueError as e:\n",
    "        for exc in e.exceptions:\n",
    "            print(f\"Обнаружена ошибка ValueError: {exc}\")\n",
    "\n",
    "    finally:\n",
    "        print(\"Обработка завершена\")\n",
    "\n",
    "\n",
    "trying(-97, 1, \"7\")\n"
   ]
  },
  {
   "cell_type": "code",
   "execution_count": 28,
   "metadata": {},
   "outputs": [
    {
     "name": "stdout",
     "output_type": "stream",
     "text": [
      "Employee works\n"
     ]
    }
   ],
   "source": [
    "class Employee:\n",
    "    def do(self):\n",
    "        print(\"Employee works\")\n",
    "\n",
    "\n",
    "class Student:\n",
    "    def do(self):\n",
    "        print(\"Student studies\")\n",
    "\n",
    "\n",
    "class WorkingStudent(Employee, Student):\n",
    "    pass\n",
    "\n",
    "\n",
    "tom = WorkingStudent()\n",
    "tom.do()  # ?\n"
   ]
  },
  {
   "cell_type": "code",
   "execution_count": 33,
   "metadata": {},
   "outputs": [
    {
     "data": {
      "text/plain": [
       "<object at 0x7b6ec0280ef0>"
      ]
     },
     "execution_count": 33,
     "metadata": {},
     "output_type": "execute_result"
    }
   ],
   "source": [
    "\n"
   ]
  }
 ],
 "metadata": {
  "kernelspec": {
   "display_name": "Python 3",
   "language": "python",
   "name": "python3"
  },
  "language_info": {
   "codemirror_mode": {
    "name": "ipython",
    "version": 3
   },
   "file_extension": ".py",
   "mimetype": "text/x-python",
   "name": "python",
   "nbconvert_exporter": "python",
   "pygments_lexer": "ipython3",
   "version": "3.13.1"
  }
 },
 "nbformat": 4,
 "nbformat_minor": 2
}
